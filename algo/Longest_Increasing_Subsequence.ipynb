{
 "cells": [
  {
   "cell_type": "markdown",
   "metadata": {},
   "source": [
    "# Longest Increasing subsequence (LIS)\n",
    "\n",
    "Input: arr[] = {3, 10, 2, 1, 20}\n",
    "Output: Length of LIS = 3\n",
    "The longest increasing subsequence is 3, 10, 20\n",
    "\n",
    "Input: arr[] = {3, 2}\n",
    "Output: Length of LIS = 1\n",
    "The longest increasing subsequences are {3} and {2}\n",
    "\n",
    "Input: arr[] = {50, 3, 10, 7, 40, 80}\n",
    "Output: Length of LIS = 4\n",
    "The longest increasing subsequence is {3, 7, 40, 80}"
   ]
  },
  {
   "cell_type": "markdown",
   "metadata": {},
   "source": [
    "## Use dynamic programming\n",
    "\n",
    "Iterate throughthe array, assume that each current element is the last element of the increasing subsequence."
   ]
  },
  {
   "cell_type": "code",
   "execution_count": 5,
   "metadata": {
    "collapsed": true
   },
   "outputs": [],
   "source": [
    "\"\"\"\n",
    "FInd the max sum of the LIS\n",
    "\"\"\"\n",
    "\n",
    "INT_MIN = -1*2**31\n",
    "def max_sum_lis_dp(array):\n",
    "    \n",
    "    if (len(array) == 0):\n",
    "        return []\n",
    "    \n",
    "    result = []\n",
    "    dp = [INT_MIN] * len(array)\n",
    "    dp[0] = array[0]\n",
    "    max_value = array[0]\n",
    "    \n",
    "    for last_elem_index in range(1, len(array)):\n",
    "        last_elem = array[last_elem_index]\n",
    "        for second_last_elem in range(0, last_elem_index):\n",
    "            if array[second_last_elem] <= last_elem:\n",
    "                dp[last_elem_index] = max(dp[last_elem_index], dp[second_last_elem] + last_elem)\n",
    "                max_value = max(dp[last_elem_index], max_value)\n",
    "    return max_value"
   ]
  },
  {
   "cell_type": "code",
   "execution_count": 7,
   "metadata": {
    "collapsed": false
   },
   "outputs": [],
   "source": [
    "array_1 = [50, 3, 10, 7, 40, 80]\n",
    "assert max_sum_lis_dp(array_1) == 3 + 7 + 40 + 80\n",
    "\n",
    "array_2 = [3, 10, 2, 1, 20]\n",
    "assert max_sum_lis_dp(array_2) == 3 + 10 + 20\n",
    "\n",
    "array_3 = [3, 2]\n",
    "assert max_sum_lis_dp(array_3) == 3"
   ]
  },
  {
   "cell_type": "code",
   "execution_count": null,
   "metadata": {
    "collapsed": true
   },
   "outputs": [],
   "source": []
  }
 ],
 "metadata": {
  "kernelspec": {
   "display_name": "Python 3",
   "language": "python",
   "name": "python3"
  },
  "language_info": {
   "codemirror_mode": {
    "name": "ipython",
    "version": 3
   },
   "file_extension": ".py",
   "mimetype": "text/x-python",
   "name": "python",
   "nbconvert_exporter": "python",
   "pygments_lexer": "ipython3",
   "version": "3.6.0"
  }
 },
 "nbformat": 4,
 "nbformat_minor": 2
}
