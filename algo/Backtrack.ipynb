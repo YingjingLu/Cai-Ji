{
 "cells": [
  {
   "cell_type": "markdown",
   "metadata": {},
   "source": [
    "# Backtrack\n",
    "Backtrack is a way to search through the graph that avoids a lot of spaces to store states as it goes to one state at a time"
   ]
  },
  {
   "cell_type": "markdown",
   "metadata": {},
   "source": [
    "# psudo code\n",
    "```\n",
    "def backtrack():\n",
    "    if base case:\n",
    "        return\n",
    "    else:\n",
    "        for case in cases:\n",
    "            step case\n",
    "            backtrack()\n",
    "            restore previous states\n",
    "```"
   ]
  },
  {
   "cell_type": "markdown",
   "metadata": {},
   "source": [
    "## Leetcode 39. Combination Sum\n",
    "Given an array of distinct integers candidates and a target integer target, return a list of all unique combinations of candidates where the chosen numbers sum to target. You may return the combinations in any order.\n",
    "\n",
    "The same number may be chosen from candidates an unlimited number of times. Two combinations are unique if the frequency of at least one of the chosen numbers is different.\n",
    "\n",
    "It is guaranteed that the number of unique combinations that sum up to target is less than 150 combinations for the given input.\n",
    "```\n",
    "Input: candidates = [2,3,6,7], target = 7\n",
    "Output: [[2,2,3],[7]]\n",
    "Explanation:\n",
    "2 and 3 are candidates, and 2 + 2 + 3 = 7. Note that 2 can be used multiple times.\n",
    "7 is a candidate, and 7 = 7.\n",
    "These are the only two combinations.\n",
    "\n",
    "Input: candidates = [2,3,5], target = 8\n",
    "Output: [[2,2,2,2],[2,3,3],[3,5]]\n",
    "    \n",
    "Input: candidates = [2], target = 1\n",
    "Output: []\n",
    "    \n",
    "1 <= candidates.length <= 30\n",
    "1 <= candidates[i] <= 200\n",
    "All elements of candidates are distinct.\n",
    "1 <= target <= 500\n",
    "\n",
    "```"
   ]
  },
  {
   "cell_type": "code",
   "execution_count": 1,
   "metadata": {
    "collapsed": false
   },
   "outputs": [
    {
     "ename": "SyntaxError",
     "evalue": "invalid syntax (<ipython-input-1-9f3dcc1d06ad>, line 1)",
     "output_type": "error",
     "traceback": [
      "\u001b[0;36m  File \u001b[0;32m\"<ipython-input-1-9f3dcc1d06ad>\"\u001b[0;36m, line \u001b[0;32m1\u001b[0m\n\u001b[0;31m    class Solution {\u001b[0m\n\u001b[0m                   ^\u001b[0m\n\u001b[0;31mSyntaxError\u001b[0m\u001b[0;31m:\u001b[0m invalid syntax\n"
     ]
    }
   ],
   "source": [
    "class Solution {\n",
    "    \n",
    "    public List<List<Integer>> combinationSum(int[] candidates, int target) {\n",
    "        List<List<Integer>> result = new LinkedList<>();\n",
    "        // backtrack to get all the combinations\n",
    "        for (int i = 0; i < candidates.length; i ++) {\n",
    "            if (candidates[i] <= target) {\n",
    "                List<Integer> curSeq = new LinkedList<>();\n",
    "                backtrackRecursive(result, candidates, target, 0, i, curSeq);\n",
    "            }\n",
    "        }\n",
    "        \n",
    "        return result;\n",
    "    }\n",
    "    \n",
    "    public void backtrackRecursive(final List<List<Integer>> result, final int[] candidates, int target, int cur, int candidateStart, List<Integer> curSeq) {\n",
    "        // add the elem to cur\n",
    "        cur += candidates[candidateStart];\n",
    "        curSeq.add(candidates[candidateStart]);\n",
    "        if (cur == target) {\n",
    "            List<Integer> added = new LinkedList<>();\n",
    "            added.addAll(curSeq);\n",
    "            result.add(added);\n",
    "        } else if (cur < target) {\n",
    "            for (int i = candidateStart; i < candidates.length; i ++) {\n",
    "                if (candidates[i] + cur <= target) {\n",
    "                    backtrackRecursive(result, candidates, target, cur, i, curSeq);\n",
    "                }\n",
    "            }\n",
    "        }\n",
    "        ((LinkedList)curSeq).removeLast();\n",
    "    }\n",
    "}"
   ]
  },
  {
   "cell_type": "markdown",
   "metadata": {},
   "source": [
    "# Leetcode 51 N-Queens\n",
    "The n-queens puzzle is the problem of placing n queens on an n x n chessboard such that no two queens attack each other.\n",
    "\n",
    "Given an integer n, return all distinct solutions to the n-queens puzzle.\n",
    "\n",
    "Each solution contains a distinct board configuration of the n-queens' placement, where 'Q' and '.' both indicate a queen and an empty space, respectively.\n",
    "\n",
    "<img src=\"./imgs/queens.png\">\n",
    "\n",
    "```\n",
    "Input: n = 4\n",
    "Output: [[\".Q..\",\"...Q\",\"Q...\",\"..Q.\"],[\"..Q.\",\"Q...\",\"...Q\",\".Q..\"]]\n",
    "Explanation: There exist two distinct solutions to the 4-queens puzzle as shown above\n",
    "```"
   ]
  },
  {
   "cell_type": "code",
   "execution_count": null,
   "metadata": {
    "collapsed": true
   },
   "outputs": [],
   "source": [
    "class Solution {\n",
    "    public List<List<String>> solveNQueens(int n) {\n",
    "        Set<Integer> colVisited = new HashSet<>();\n",
    "        Set<Integer> leftDiagVisited = new HashSet<>();\n",
    "        Set<Integer> rightDiagVisited = new HashSet<>();\n",
    "        List<List<String>> result = new LinkedList<>();\n",
    "        List<int[]> curPath = new LinkedList<>();\n",
    "        for (int col = 0; col < n; col ++) {\n",
    "            backtrackRecursive(n, colVisited, leftDiagVisited, rightDiagVisited, result, curPath, 0, col);\n",
    "        }\n",
    "        return result;\n",
    "    }\n",
    "    \n",
    "    public void backtrackRecursive(\n",
    "            final int n, \n",
    "            final Set<Integer> colVisited, \n",
    "            final Set<Integer> leftDiagVisited, \n",
    "            final Set<Integer> rightDiagVisited, \n",
    "            final List<List<String>> result,\n",
    "            final List<int[]> curPath,\n",
    "            final int curRow, \n",
    "            final int curCol) {\n",
    "        // take step\n",
    "        int leftDisplace = curCol - curRow;\n",
    "        int rightDisplace = curCol - (n - 1 - curRow);\n",
    "        colVisited.add(curCol);\n",
    "        leftDiagVisited.add(leftDisplace);\n",
    "        rightDiagVisited.add(rightDisplace);\n",
    "        curPath.add(new int[]{curRow, curCol});\n",
    "        \n",
    "        // if reaches end, then add the path and return\n",
    "        if (curRow == n - 1) {\n",
    "            List<String> pathString = curPathToPathString(curPath);\n",
    "            result.add(pathString);\n",
    "        }\n",
    "        for (int col = 0; col < n; col ++) {\n",
    "            if (!colVisited.contains(col) && !leftDiagVisited.contains(col - curRow - 1) && !rightDiagVisited.contains(col - (n - 1 - curRow - 1))) {\n",
    "                backtrackRecursive(n, colVisited, leftDiagVisited, rightDiagVisited, result, curPath, curRow + 1, col);\n",
    "            }\n",
    "        }\n",
    "        // recover step\n",
    "        colVisited.remove(curCol);\n",
    "        leftDiagVisited.remove(leftDisplace);\n",
    "        rightDiagVisited.remove(rightDisplace);\n",
    "        ((LinkedList)curPath).removeLast();\n",
    "    }\n",
    "    \n",
    "    public List<String> curPathToPathString(List<int[]> curPath) {\n",
    "        List<String> result = new LinkedList<>();\n",
    "        for (int[] pos : curPath) {\n",
    "            final int col = pos[1];\n",
    "            StringBuilder builder = new StringBuilder();\n",
    "            for (int i = 0; i < col; i ++) {\n",
    "                builder.append('.');\n",
    "            }\n",
    "            builder.append('Q');\n",
    "            for (int i = col + 1; i < curPath.size(); i ++) {\n",
    "                builder.append('.');\n",
    "            }\n",
    "            result.add(builder.toString());\n",
    "        }\n",
    "        return result;\n",
    "    }\n",
    "}"
   ]
  }
 ],
 "metadata": {
  "kernelspec": {
   "display_name": "Python 3",
   "language": "python",
   "name": "python3"
  },
  "language_info": {
   "codemirror_mode": {
    "name": "ipython",
    "version": 3
   },
   "file_extension": ".py",
   "mimetype": "text/x-python",
   "name": "python",
   "nbconvert_exporter": "python",
   "pygments_lexer": "ipython3",
   "version": "3.6.0"
  }
 },
 "nbformat": 4,
 "nbformat_minor": 2
}
