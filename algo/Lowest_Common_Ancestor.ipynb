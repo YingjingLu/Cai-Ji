{
 "cells": [
  {
   "cell_type": "markdown",
   "metadata": {},
   "source": [
    "# Lowest Common Ancestor (LCA) in binary search tree\n",
    "```\n",
    "       1\n",
    "    /     \\\n",
    "  2         3\n",
    " / \\       / \\\n",
    "4   5     6   7\n",
    "\n",
    "\n",
    "LCA(4, 5) = 2\n",
    "LCA(2, 4) = 2\n",
    "LCA(4, 6) = 1\n",
    "```"
   ]
  },
  {
   "cell_type": "markdown",
   "metadata": {},
   "source": [
    "## One pass solution\n",
    "\n",
    "Assume that both keys exists, then the LCA is the one that is like this:\n",
    "```\n",
    "              LCA\n",
    "            /    \\\n",
    "smaller_elem      larger_elem\n",
    "```\n",
    "\n",
    "or like these\n",
    "\n",
    "```\n",
    "         smaller_elem\n",
    "            /    \\\n",
    "                  larger_elem\n",
    "```\n",
    "\n",
    "```\n",
    "          larger_elem\n",
    "            /    \\\n",
    "smaller_elem      \n",
    "```"
   ]
  },
  {
   "cell_type": "code",
   "execution_count": 1,
   "metadata": {
    "collapsed": true
   },
   "outputs": [],
   "source": [
    "class TreeNode(object):\n",
    "    def __init__(self, value, left, right):\n",
    "        self.value = value\n",
    "        self.left = left\n",
    "        self.right = right\n",
    "        \n",
    "def find_node(root, value):\n",
    "    if root is None or root == value:\n",
    "        return root\n",
    "    if root.value < value:\n",
    "        return find_node(root.right, value)\n",
    "    return find_node(root.left, value)\n",
    "        \n",
    "def lca(root, elem1, elem2):\n",
    "    smaller, larger = 0, 0\n",
    "    if (elem1 < elem2):\n",
    "        smaller = elem1\n",
    "        larger = elem2\n",
    "    else:\n",
    "        smaller = elem2\n",
    "        larger = elem1\n",
    "    \n",
    "    if root is None:\n",
    "        return None\n",
    "    \n",
    "    cur = root\n",
    "    \"\"\"\n",
    "    case1: two values equal to each other, find the node and return\n",
    "    case2: smaller is the LCA, try find the larger node in the right\n",
    "    case3: larger is the LCA, try find the smaller node in the left\n",
    "    case4: cur node is the splitter, find smaller in left and larger in right\n",
    "    \"\"\"\n",
    "    while cur is not None:\n",
    "        if (cur.value == smaller and cur.value == larger):\n",
    "            return cur\n",
    "        elif (cur.value == smaller):\n",
    "            if find_node(cur.right, larger) is not None:\n",
    "                return cur\n",
    "        elif (cur.value == larger):\n",
    "            if find_node(cur.left, smaller) is not None:\n",
    "                return cur\n",
    "        elif (cur.value > smaller and cur.value < larger):\n",
    "            if (find_node(cur.left, smaller) is not None) and (find_node(curlright, larger) is not None):\n",
    "                return cur\n",
    "        else:\n",
    "            if cur.value < smaller and cur.value < larger:\n",
    "                cur = cur.right\n",
    "            elif cur.value > smaller and cur.value > larger:\n",
    "                cur = cur.left\n",
    "            else:\n",
    "                return None\n",
    "    return None"
   ]
  },
  {
   "cell_type": "code",
   "execution_count": null,
   "metadata": {
    "collapsed": true
   },
   "outputs": [],
   "source": []
  }
 ],
 "metadata": {
  "kernelspec": {
   "display_name": "Python 3",
   "language": "python",
   "name": "python3"
  },
  "language_info": {
   "codemirror_mode": {
    "name": "ipython",
    "version": 3
   },
   "file_extension": ".py",
   "mimetype": "text/x-python",
   "name": "python",
   "nbconvert_exporter": "python",
   "pygments_lexer": "ipython3",
   "version": "3.6.0"
  }
 },
 "nbformat": 4,
 "nbformat_minor": 2
}
