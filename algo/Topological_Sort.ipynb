{
 "cells": [
  {
   "cell_type": "markdown",
   "metadata": {},
   "source": [
    "# Topological Sort \n",
    "\n",
    "**Assume that the graph is DAG**"
   ]
  },
  {
   "cell_type": "markdown",
   "metadata": {},
   "source": [
    "Each node has incoming and outgoing edges\n",
    "Start with those without outgoing edges\n",
    "Traverse through those proceeding elements, eliminate incoming edges on those visited nodes\n",
    "Add those with no incoming edges back to the set of nodes without incoming"
   ]
  },
  {
   "cell_type": "code",
   "execution_count": 3,
   "metadata": {
    "collapsed": true
   },
   "outputs": [],
   "source": [
    "# [from, to]\n",
    "graph = [\n",
    "    [5, 0],\n",
    "    [4, 0],\n",
    "    [5, 2],\n",
    "    [4, 1],\n",
    "    [2, 3],\n",
    "    [1, 3]\n",
    "]\n",
    "\n",
    "def topological_sort(graph):\n",
    "    # accumulate those with incoming edges\n",
    "    \n",
    "    # node: count\n",
    "    incoming_dict = dict()\n",
    "    # node: [nodes]\n",
    "    outgoing_dict = dict()\n",
    "    \n",
    "    for from_node, to_node in graph:\n",
    "        incoming_dict[to_node] = incoming_dict.get(to_node, 0) + 1\n",
    "        incoming_dict[from_node] = incoming_dict.get(from_node, 0)\n",
    "        if from_node not in outgoing_dict:\n",
    "            outgoing_dict[from_node] = []\n",
    "        outgoing_dict[from_node].append(to_node)\n",
    "    \n",
    "    result = []\n",
    "    parent_queue = []\n",
    "    for node, count in incoming_dict.items():\n",
    "        if count == 0:\n",
    "            parent_queue.append(node)\n",
    "    while len(parent_queue) != 0:\n",
    "        node = parent_queue.pop(0)\n",
    "        result.append(node)\n",
    "        if node in outgoing_dict:\n",
    "            for child in outgoing_dict[node]:\n",
    "                incoming_dict[child] = incoming_dict[child] - 1\n",
    "                if (incoming_dict[child] == 0):\n",
    "                    parent_queue.append(child)\n",
    "    return result\n",
    "    "
   ]
  },
  {
   "cell_type": "markdown",
   "metadata": {},
   "source": [
    "# Sample questions"
   ]
  },
  {
   "cell_type": "markdown",
   "metadata": {},
   "source": [
    "## Leetcode 269 Alien Dictionary\n",
    "\n",
    "There is a new alien language that uses the English alphabet. However, the order among letters are unknown to you.\n",
    "\n",
    "You are given a list of strings words from the dictionary, where words are sorted lexicographically by the rules of this new language.\n",
    "\n",
    "Derive the order of letters in this language, and return it. If the given input is invalid, return \"\". If there are multiple valid solutions, return any of them.\n",
    "\n",
    "Input: words = [\"wrt\",\"wrf\",\"er\",\"ett\",\"rftt\"]\n",
    "Output: \"wertf\"\n",
    "\n",
    "Input: words = [\"z\",\"x\"]\n",
    "Output: \"zx\"\n",
    "\n",
    "\n",
    "Input: words = [\"z\",\"x\",\"z\"]\n",
    "Output: \"\"\n",
    "Explanation: The order is invalid, so return \"\"."
   ]
  },
  {
   "cell_type": "code",
   "execution_count": 5,
   "metadata": {
    "collapsed": false
   },
   "outputs": [],
   "source": [
    "class AlienGraph( object ):\n",
    "    \n",
    "    def __init__( self ):\n",
    "        \n",
    "        self.incoming = dict() # char: set\n",
    "        self.incoming_num = dict()# char: num_incoming\n",
    "        self.outgoing = dict() # char: { char1, char2 }\n",
    "        \n",
    "    def build_graph( self, words ):\n",
    "        cur_i = 0\n",
    "        next_i = 1\n",
    "        for word in words:\n",
    "            for char in word:\n",
    "                if char not in self.incoming:\n",
    "                    self.incoming[ char ] = set()\n",
    "                    self.outgoing[ char ] = set()\n",
    "                    self.incoming_num[ char ] = 0\n",
    "        while next_i != len( words ):\n",
    "            w1, w2 = words[ cur_i ], words[ next_i ]     \n",
    "            for i in range( min( len( w1 ), len( w2 ) ) ):\n",
    "                _from = w1[ i ]\n",
    "                _to = w2[ i ]\n",
    "                if w1[ i ] != w2[ i ]:\n",
    "                    if _from not in self.incoming[ _to ]:\n",
    "                        self.incoming[ _to ].add( _from )\n",
    "                        self.incoming_num[ _to ] += 1\n",
    "                    self.outgoing[ _from ].add( _to )\n",
    "                    break\n",
    "            cur_i += 1\n",
    "            next_i += 1\n",
    "        print( self.incoming )\n",
    "        print( self.outgoing )\n",
    "    \n",
    "    def topo_sort( self ):\n",
    "        res = \"\"\n",
    "        expect_num = len( self.incoming )\n",
    "        queue = []\n",
    "        for key in self.incoming:\n",
    "            if len( self.incoming[ key ] ) == 0:\n",
    "                queue.append( key )\n",
    "        while( len( queue ) > 0 ):\n",
    "            char = queue.pop( 0 )\n",
    "            res += char\n",
    "            for next_char in self.outgoing[ char ]:\n",
    "                if char in self.incoming[ next_char ]:\n",
    "                    self.incoming[ next_char ].remove( char )\n",
    "                    if len( self.incoming[ next_char ] ) == 0:\n",
    "                        queue.append( next_char )\n",
    "    \n",
    "        if len( res ) != expect_num:\n",
    "            return \"\"\n",
    "        return res\n",
    "    \n",
    "    \n",
    "\n",
    "class Solution:\n",
    "    def alienOrder(self, words):\n",
    "        instance = AlienGraph()\n",
    "        instance.build_graph( words )\n",
    "        # topological sort\n",
    "        res = instance.topo_sort()\n",
    "        return res"
   ]
  },
  {
   "cell_type": "code",
   "execution_count": null,
   "metadata": {
    "collapsed": true
   },
   "outputs": [],
   "source": []
  }
 ],
 "metadata": {
  "kernelspec": {
   "display_name": "Python 3",
   "language": "python",
   "name": "python3"
  },
  "language_info": {
   "codemirror_mode": {
    "name": "ipython",
    "version": 3
   },
   "file_extension": ".py",
   "mimetype": "text/x-python",
   "name": "python",
   "nbconvert_exporter": "python",
   "pygments_lexer": "ipython3",
   "version": "3.6.0"
  }
 },
 "nbformat": 4,
 "nbformat_minor": 2
}
