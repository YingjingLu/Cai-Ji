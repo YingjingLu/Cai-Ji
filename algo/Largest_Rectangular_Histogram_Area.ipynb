{
 "cells": [
  {
   "cell_type": "markdown",
   "metadata": {},
   "source": [
    "# Largest Rectangular Hostogram Area\n",
    "\n",
    "Consider the histogra with heights ordered in an array like below:\n",
    "    \n",
    "[2,1,5,6,2,3]\n",
    "\n",
    "Find the largest Rectangular Area:\n",
    "    \n",
    "<img src=\"./imgs/histogram_area.png\">\n"
   ]
  },
  {
   "cell_type": "markdown",
   "metadata": {},
   "source": [
    "# Algorithm:\n",
    "\n",
    "Loop through the array of heights. Use a **Stack** to keep track of the indecies of increasing heights, when heights are decreasing, pop out all the heights in stack that are equal or larger, calculate their area."
   ]
  },
  {
   "cell_type": "code",
   "execution_count": 2,
   "metadata": {
    "collapsed": false
   },
   "outputs": [],
   "source": [
    "class Stack(object):\n",
    "    def __init__(self):\n",
    "        self.stack = list()\n",
    "    \n",
    "    def peek(self):\n",
    "        return self.stack[-1]\n",
    "    \n",
    "    def push(self, elem):\n",
    "        self.stack.append(elem)\n",
    "    \n",
    "    def pop(self):\n",
    "        return self.stack.pop(-1)\n",
    "\n",
    "def largest_rectangular_area_histogram(height_array):\n",
    "    if (len(height_array) == 0):\n",
    "        return 0\n",
    "    stack = Stack()\n",
    "    stack.push(-1)\n",
    "    max_area = 0\n",
    "    for cur_index in range(len(height_array)):\n",
    "        while(\n",
    "                stack.peek() != -1\n",
    "                and height_array[cur_index] <= height_array[stack.peek()]\n",
    "        ):\n",
    "            max_area = max(max_area, height_array[stack.pop()] * (cur_index - stack.peek() - 1))\n",
    "        stack.push(cur_index)\n",
    "    # compute the trailing ones\n",
    "    while(stack.peek() != -1):\n",
    "        max_area = max(max_area, height_array[stack.pop()] * (len(height_array) - stack.peek() - 1))\n",
    "    return max_area\n",
    "\n",
    "assert largest_rectangular_area_histogram([2,1,5,6,2,3]) == 10\n",
    "            "
   ]
  },
  {
   "cell_type": "markdown",
   "metadata": {},
   "source": [
    "## LC 85 Maximal Rectangle\n",
    "Given a rows x cols binary matrix filled with 0's and 1's, find the largest rectangle containing only 1's and return its area.\n",
    "\n",
    "\n",
    "<img src=\"./imgs/maximal_rectangle.jpg\" />\n",
    "\n",
    "Input: matrix = [[\"1\",\"0\",\"1\",\"0\",\"0\"],[\"1\",\"0\",\"1\",\"1\",\"1\"],[\"1\",\"1\",\"1\",\"1\",\"1\"],[\"1\",\"0\",\"0\",\"1\",\"0\"]]\n",
    "Output: 6\n",
    "Explanation: The maximal rectangle is shown in the above picture.\n",
    "\n",
    "\n",
    "Input: matrix = [[\"0\",\"0\"]]\n",
    "Output: 0\n",
    "\n",
    "Input: matrix = [[\"1\"]]\n",
    "Output: 1\n"
   ]
  },
  {
   "cell_type": "code",
   "execution_count": null,
   "metadata": {
    "collapsed": true
   },
   "outputs": [],
   "source": [
    "class Solution {\n",
    "    \n",
    "    public int findMax(int[] dp) {\n",
    "        Stack<Integer> stack = new Stack<>();\n",
    "        stack.push(-1);\n",
    "        int maxArea = 0;\n",
    "        \n",
    "        for (int i = 0; i < dp.length; i ++) {\n",
    "            while(stack.peek() != -1 && dp[stack.peek()] >= dp[i]) {\n",
    "                maxArea = Integer.max(maxArea, dp[stack.pop()] * (i - 1 - stack.peek()));\n",
    "            }\n",
    "            stack.push(i);\n",
    "        }\n",
    "        \n",
    "        while (stack.peek() != -1) {\n",
    "            maxArea = Integer.max(maxArea, dp[stack.pop()] * (dp.length - stack.peek() -1));\n",
    "        }\n",
    "        return maxArea;\n",
    "    }\n",
    "    \n",
    "    public int maximalRectangle(char[][] matrix) {\n",
    "        if (matrix.length == 0 || matrix[0].length == 0) {\n",
    "            return 0;\n",
    "        }\n",
    "        int[] curCount = new int[matrix[0].length];\n",
    "        int maxArea = 0;\n",
    "        for (int row = 0; row < matrix.length; row ++) {\n",
    "            for (int col = 0; col < matrix[0].length; col ++) {\n",
    "                if (matrix[row][col] == '0') {\n",
    "                    curCount[col] = 0;\n",
    "                } else {\n",
    "                    curCount[col] ++;\n",
    "                }\n",
    "            }\n",
    "            maxArea = Integer.max(maxArea, findMax(curCount));\n",
    "        }\n",
    "        \n",
    "        return maxArea;\n",
    "    }\n",
    "}"
   ]
  }
 ],
 "metadata": {
  "kernelspec": {
   "display_name": "Python 3",
   "language": "python",
   "name": "python3"
  },
  "language_info": {
   "codemirror_mode": {
    "name": "ipython",
    "version": 3
   },
   "file_extension": ".py",
   "mimetype": "text/x-python",
   "name": "python",
   "nbconvert_exporter": "python",
   "pygments_lexer": "ipython3",
   "version": "3.6.0"
  }
 },
 "nbformat": 4,
 "nbformat_minor": 2
}
